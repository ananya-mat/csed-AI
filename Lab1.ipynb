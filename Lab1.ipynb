{
 "cells": [
  {
   "cell_type": "markdown",
   "metadata": {},
   "source": [
    "Question 1"
   ]
  },
  {
   "cell_type": "code",
   "execution_count": 10,
   "metadata": {},
   "outputs": [
    {
     "name": "stdout",
     "output_type": "stream",
     "text": [
      "Maths:\n",
      "Highest:  95\n",
      "Lowest:  53\n",
      "Average:  76.0\n",
      "Science:\n",
      "Highest:  89\n",
      "Lowest:  45\n",
      "Average:  80.0909090909091\n",
      "English:\n",
      "Highest:  90\n",
      "Lowest:  90\n",
      "Average:  90.0\n",
      "IT:\n",
      "Highest:  92\n",
      "Lowest:  92\n",
      "Average:  92.0\n"
     ]
    }
   ],
   "source": [
    "students = [\n",
    "    {\"Maths\": 78, \"Science\": 85, \"English\": 90, \"IT\": 92},\n",
    "    {\"Maths\": 78, \"Science\": 85, \"English\": 90, \"IT\": 92},\n",
    "    {\"Maths\": 77, \"Science\": 85, \"English\": 90, \"IT\": 92},\n",
    "    {\"Maths\": 75, \"Science\": 85, \"English\": 90, \"IT\": 92},\n",
    "    {\"Maths\": 81, \"Science\": 85, \"English\": 90, \"IT\": 92},\n",
    "    {\"Maths\": 90, \"Science\": 89, \"English\": 90, \"IT\": 92},\n",
    "    {\"Maths\": 65, \"Science\": 45, \"English\": 90, \"IT\": 92},\n",
    "    {\"Maths\": 75, \"Science\": 78, \"English\": 90, \"IT\": 92},\n",
    "    {\"Maths\": 95, \"Science\": 83, \"English\": 90, \"IT\": 92},\n",
    "    {\"Maths\": 53, \"Science\": 86, \"English\": 90, \"IT\": 92},\n",
    "    {\"Maths\": 69, \"Science\": 75, \"English\": 90, \"IT\": 92},\n",
    "]\n",
    "subjects = ['Maths', 'Science', 'English', 'IT']\n",
    "\n",
    "results = {subject: {\"highest\": 0, \"lowest\": 100, \"total\": 0} for subject in subjects}\n",
    "\n",
    "highest = 0\n",
    "lowest = 100 * len(subjects)\n",
    "total = 0\n",
    "\n",
    "for student in students:\n",
    "    students_total = 0\n",
    "    for subject, marks in student.items():\n",
    "        results[subject][\"highest\"] = max(results[subject][\"highest\"], marks)\n",
    "        results[subject][\"lowest\"] = min(results[subject][\"lowest\"], marks)\n",
    "        results[subject][\"total\"] += marks\n",
    "        \n",
    "        students_total  += marks\n",
    "\n",
    "    highest = max(highest, students_total)\n",
    "    lowest = min(lowest, students_total)\n",
    "    total += students_total\n",
    "    \n",
    "for subject in subjects:\n",
    "    results[subject][\"average\"] = results[subject][\"total\"] / len(students)\n",
    "    \n",
    "average = total/(len(students) * len(subjects))\n",
    "\n",
    "for subject in subjects:\n",
    "    print(f\"{subject}:\")\n",
    "    print(\"Highest: \", results[subject][\"highest\"])\n",
    "    print(\"Lowest: \",results[subject][\"lowest\"])\n",
    "    print(\"Average: \",results[subject][\"average\"])\n",
    "\n",
    "\n"
   ]
  }
 ],
 "metadata": {
  "kernelspec": {
   "display_name": "Python 3",
   "language": "python",
   "name": "python3"
  },
  "language_info": {
   "codemirror_mode": {
    "name": "ipython",
    "version": 3
   },
   "file_extension": ".py",
   "mimetype": "text/x-python",
   "name": "python",
   "nbconvert_exporter": "python",
   "pygments_lexer": "ipython3",
   "version": "3.9.2"
  }
 },
 "nbformat": 4,
 "nbformat_minor": 2
}
