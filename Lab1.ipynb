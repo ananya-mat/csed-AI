{
 "cells": [
  {
   "cell_type": "markdown",
   "metadata": {},
   "source": [
    "Question 1"
   ]
  },
  {
   "cell_type": "code",
   "execution_count": 10,
   "metadata": {},
   "outputs": [
    {
     "name": "stdout",
     "output_type": "stream",
     "text": [
      "Maths:\n",
      "Highest:  95\n",
      "Lowest:  53\n",
      "Average:  76.0\n",
      "Science:\n",
      "Highest:  89\n",
      "Lowest:  45\n",
      "Average:  80.0909090909091\n",
      "English:\n",
      "Highest:  90\n",
      "Lowest:  90\n",
      "Average:  90.0\n",
      "IT:\n",
      "Highest:  92\n",
      "Lowest:  92\n",
      "Average:  92.0\n"
     ]
    }
   ],
   "source": [
    "students = [\n",
    "    {\"Maths\": 78, \"Science\": 85, \"English\": 90, \"IT\": 92},\n",
    "    {\"Maths\": 78, \"Science\": 85, \"English\": 90, \"IT\": 92},\n",
    "    {\"Maths\": 77, \"Science\": 85, \"English\": 90, \"IT\": 92},\n",
    "    {\"Maths\": 75, \"Science\": 85, \"English\": 90, \"IT\": 92},\n",
    "    {\"Maths\": 81, \"Science\": 85, \"English\": 90, \"IT\": 92},\n",
    "    {\"Maths\": 90, \"Science\": 89, \"English\": 90, \"IT\": 92},\n",
    "    {\"Maths\": 65, \"Science\": 45, \"English\": 90, \"IT\": 92},\n",
    "    {\"Maths\": 75, \"Science\": 78, \"English\": 90, \"IT\": 92},\n",
    "    {\"Maths\": 95, \"Science\": 83, \"English\": 90, \"IT\": 92},\n",
    "    {\"Maths\": 53, \"Science\": 86, \"English\": 90, \"IT\": 92},\n",
    "    {\"Maths\": 69, \"Science\": 75, \"English\": 90, \"IT\": 92},\n",
    "]\n",
    "subjects = ['Maths', 'Science', 'English', 'IT']\n",
    "\n",
    "results = {subject: {\"highest\": 0, \"lowest\": 100, \"total\": 0} for subject in subjects}\n",
    "\n",
    "highest = 0\n",
    "lowest = 100 * len(subjects)\n",
    "total = 0\n",
    "\n",
    "for student in students:\n",
    "    students_total = 0\n",
    "    for subject, marks in student.items():\n",
    "        results[subject][\"highest\"] = max(results[subject][\"highest\"], marks)\n",
    "        results[subject][\"lowest\"] = min(results[subject][\"lowest\"], marks)\n",
    "        results[subject][\"total\"] += marks\n",
    "        \n",
    "        students_total  += marks\n",
    "\n",
    "    highest = max(highest, students_total)\n",
    "    lowest = min(lowest, students_total)\n",
    "    total += students_total\n",
    "    \n",
    "for subject in subjects:\n",
    "    results[subject][\"average\"] = results[subject][\"total\"] / len(students)\n",
    "    \n",
    "average = total/(len(students) * len(subjects))\n",
    "\n",
    "for subject in subjects:\n",
    "    print(f\"{subject}:\")\n",
    "    print(\"Highest: \", results[subject][\"highest\"])\n",
    "    print(\"Lowest: \",results[subject][\"lowest\"])\n",
    "    print(\"Average: \",results[subject][\"average\"])\n",
    "\n",
    "\n"
   ]
  },
  {
   "cell_type": "markdown",
   "metadata": {},
   "source": [
    "Question 2"
   ]
  },
  {
   "cell_type": "code",
   "execution_count": 11,
   "metadata": {},
   "outputs": [
    {
     "name": "stdout",
     "output_type": "stream",
     "text": [
      "Your Gross salary is : 32250.0\n"
     ]
    }
   ],
   "source": [
    "salary = int(input(\"Salary: \"))\n",
    "HRA:int=0\n",
    "DA:int=0\n",
    "if salary <= 10000:\n",
    "    HRA = 20\n",
    "    DA = 80\n",
    "elif salary <= 20000:\n",
    "    HRA = 25\n",
    "    DA = 90\n",
    "elif salary > 20000:\n",
    "    HRA = 30\n",
    "    DA = 95\n",
    "    \n",
    "net_hra = HRA*salary/100\n",
    "net_da = DA*salary/100\n",
    "gross_sal = net_da+ net_hra + salary\n",
    "print(f\"Your Gross salary is : {gross_sal}\")"
   ]
  },
  {
   "cell_type": "markdown",
   "metadata": {},
   "source": [
    "Question 3"
   ]
  },
  {
   "cell_type": "code",
   "execution_count": 18,
   "metadata": {},
   "outputs": [
    {
     "name": "stdout",
     "output_type": "stream",
     "text": [
      "Password should have at least 1 letter between [a-z]\n"
     ]
    }
   ],
   "source": [
    "inp_pass = input(\"Password: \")\n",
    "is_valid:bool = False\n",
    "\n",
    "def validate(inp_pass):\n",
    "    if len(inp_pass) < 6 or len(inp_pass) > 16:\n",
    "        is_valid = False\n",
    "        print('Password should be Minimum 6 characters and Maximum 16 characters')\n",
    "        return\n",
    "    sp_cntr:int = 0\n",
    "    nm_cntr:int = 0\n",
    "    lo_cntr:int = 0\n",
    "    up_cntr:int = 0\n",
    "    special_chars = ['$', '#', '@']\n",
    "    for c in inp_pass:\n",
    "        if c in special_chars:\n",
    "            sp_cntr+=1\n",
    "        if c.isdigit():\n",
    "            nm_cntr+=1\n",
    "        if c.islower():\n",
    "            lo_cntr+=1\n",
    "        if c.isupper():\n",
    "            up_cntr+=1\n",
    "    \n",
    "    if sp_cntr<1:\n",
    "        print('Password should have at least 1 character from [$#@]')\n",
    "        return\n",
    "    elif nm_cntr<1:\n",
    "        print('Password should have at least 1 number between [0-9]')\n",
    "        return\n",
    "    elif lo_cntr<1:\n",
    "        print('Password should have at least 1 letter between [a-z]')\n",
    "        return\n",
    "    elif up_cntr<1:\n",
    "        print('Password should have at least 1 letter between [A-Z]')\n",
    "        return\n",
    "    \n",
    "    print(\"Your password is valid!\")\n",
    "    \n",
    "validate(inp_pass)\n"
   ]
  },
  {
   "cell_type": "markdown",
   "metadata": {},
   "source": [
    "Question 4"
   ]
  },
  {
   "cell_type": "code",
   "execution_count": 22,
   "metadata": {},
   "outputs": [
    {
     "name": "stdout",
     "output_type": "stream",
     "text": [
      "[10, 20, 30, 40, 50, 60, 70, 80]\n",
      "Adding 200 and 300\n",
      "[10, 20, 30, 40, 50, 60, 70, 80, 200, 300]\n",
      "Removing 10 and 30\n",
      "[20, 40, 50, 60, 70, 80, 200, 300]\n",
      "Ascending:\n",
      "[20, 40, 50, 60, 70, 80, 200, 300]\n",
      "Descending:\n",
      "[300, 200, 80, 70, 60, 50, 40, 20]\n"
     ]
    }
   ],
   "source": [
    "my_list = [10, 20, 30, 40, 50, 60, 70, 80]\n",
    "print(my_list)\n",
    "print('Adding 200 and 300')\n",
    "my_list.append(200)\n",
    "my_list.append(300)\n",
    "print(my_list)\n",
    "\n",
    "print(\"Removing 10 and 30\")\n",
    "my_list.remove(10)\n",
    "my_list.remove(30)\n",
    "print(my_list)\n",
    "\n",
    "print(\"Ascending:\")\n",
    "my_list.sort()\n",
    "print(my_list)\n",
    "\n",
    "print(\"Descending:\")\n",
    "my_list.sort(reverse=True)\n",
    "print(my_list)\n"
   ]
  }
 ],
 "metadata": {
  "kernelspec": {
   "display_name": "Python 3",
   "language": "python",
   "name": "python3"
  },
  "language_info": {
   "codemirror_mode": {
    "name": "ipython",
    "version": 3
   },
   "file_extension": ".py",
   "mimetype": "text/x-python",
   "name": "python",
   "nbconvert_exporter": "python",
   "pygments_lexer": "ipython3",
   "version": "3.9.2"
  }
 },
 "nbformat": 4,
 "nbformat_minor": 2
}
