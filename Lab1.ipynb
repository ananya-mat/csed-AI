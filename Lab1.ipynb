{
 "cells": [
  {
   "cell_type": "markdown",
   "metadata": {},
   "source": [
    "Question 1"
   ]
  },
  {
   "cell_type": "code",
   "execution_count": 10,
   "metadata": {},
   "outputs": [
    {
     "name": "stdout",
     "output_type": "stream",
     "text": [
      "Maths:\n",
      "Highest:  95\n",
      "Lowest:  53\n",
      "Average:  76.0\n",
      "Science:\n",
      "Highest:  89\n",
      "Lowest:  45\n",
      "Average:  80.0909090909091\n",
      "English:\n",
      "Highest:  90\n",
      "Lowest:  90\n",
      "Average:  90.0\n",
      "IT:\n",
      "Highest:  92\n",
      "Lowest:  92\n",
      "Average:  92.0\n"
     ]
    }
   ],
   "source": [
    "students = [\n",
    "    {\"Maths\": 78, \"Science\": 85, \"English\": 90, \"IT\": 92},\n",
    "    {\"Maths\": 78, \"Science\": 85, \"English\": 90, \"IT\": 92},\n",
    "    {\"Maths\": 77, \"Science\": 85, \"English\": 90, \"IT\": 92},\n",
    "    {\"Maths\": 75, \"Science\": 85, \"English\": 90, \"IT\": 92},\n",
    "    {\"Maths\": 81, \"Science\": 85, \"English\": 90, \"IT\": 92},\n",
    "    {\"Maths\": 90, \"Science\": 89, \"English\": 90, \"IT\": 92},\n",
    "    {\"Maths\": 65, \"Science\": 45, \"English\": 90, \"IT\": 92},\n",
    "    {\"Maths\": 75, \"Science\": 78, \"English\": 90, \"IT\": 92},\n",
    "    {\"Maths\": 95, \"Science\": 83, \"English\": 90, \"IT\": 92},\n",
    "    {\"Maths\": 53, \"Science\": 86, \"English\": 90, \"IT\": 92},\n",
    "    {\"Maths\": 69, \"Science\": 75, \"English\": 90, \"IT\": 92},\n",
    "]\n",
    "subjects = ['Maths', 'Science', 'English', 'IT']\n",
    "\n",
    "results = {subject: {\"highest\": 0, \"lowest\": 100, \"total\": 0} for subject in subjects}\n",
    "\n",
    "highest = 0\n",
    "lowest = 100 * len(subjects)\n",
    "total = 0\n",
    "\n",
    "for student in students:\n",
    "    students_total = 0\n",
    "    for subject, marks in student.items():\n",
    "        results[subject][\"highest\"] = max(results[subject][\"highest\"], marks)\n",
    "        results[subject][\"lowest\"] = min(results[subject][\"lowest\"], marks)\n",
    "        results[subject][\"total\"] += marks\n",
    "        \n",
    "        students_total  += marks\n",
    "\n",
    "    highest = max(highest, students_total)\n",
    "    lowest = min(lowest, students_total)\n",
    "    total += students_total\n",
    "    \n",
    "for subject in subjects:\n",
    "    results[subject][\"average\"] = results[subject][\"total\"] / len(students)\n",
    "    \n",
    "average = total/(len(students) * len(subjects))\n",
    "\n",
    "for subject in subjects:\n",
    "    print(f\"{subject}:\")\n",
    "    print(\"Highest: \", results[subject][\"highest\"])\n",
    "    print(\"Lowest: \",results[subject][\"lowest\"])\n",
    "    print(\"Average: \",results[subject][\"average\"])\n",
    "\n",
    "\n"
   ]
  },
  {
   "cell_type": "markdown",
   "metadata": {},
   "source": [
    "Question 2"
   ]
  },
  {
   "cell_type": "code",
   "execution_count": 11,
   "metadata": {},
   "outputs": [
    {
     "name": "stdout",
     "output_type": "stream",
     "text": [
      "Your Gross salary is : 32250.0\n"
     ]
    }
   ],
   "source": [
    "salary = int(input(\"Salary: \"))\n",
    "HRA:int=0\n",
    "DA:int=0\n",
    "if salary <= 10000:\n",
    "    HRA = 20\n",
    "    DA = 80\n",
    "elif salary <= 20000:\n",
    "    HRA = 25\n",
    "    DA = 90\n",
    "elif salary > 20000:\n",
    "    HRA = 30\n",
    "    DA = 95\n",
    "    \n",
    "net_hra = HRA*salary/100\n",
    "net_da = DA*salary/100\n",
    "gross_sal = net_da+ net_hra + salary\n",
    "print(f\"Your Gross salary is: {gross_sal}\")"
   ]
  },
  {
   "cell_type": "markdown",
   "metadata": {},
   "source": [
    "Question 3"
   ]
  },
  {
   "cell_type": "code",
   "execution_count": 18,
   "metadata": {},
   "outputs": [
    {
     "name": "stdout",
     "output_type": "stream",
     "text": [
      "Password should have at least 1 letter between [a-z]\n"
     ]
    }
   ],
   "source": [
    "inp_pass = input(\"Password: \")\n",
    "is_valid:bool = False\n",
    "\n",
    "def validate(inp_pass):\n",
    "    if len(inp_pass) < 6 or len(inp_pass) > 16:\n",
    "        is_valid = False\n",
    "        print('Password should be Minimum 6 characters and Maximum 16 characters')\n",
    "        return\n",
    "    sp_cntr:int = 0\n",
    "    nm_cntr:int = 0\n",
    "    lo_cntr:int = 0\n",
    "    up_cntr:int = 0\n",
    "    special_chars = ['$', '#', '@']\n",
    "    for c in inp_pass:\n",
    "        if c in special_chars:\n",
    "            sp_cntr+=1\n",
    "        if c.isdigit():\n",
    "            nm_cntr+=1\n",
    "        if c.islower():\n",
    "            lo_cntr+=1\n",
    "        if c.isupper():\n",
    "            up_cntr+=1\n",
    "    \n",
    "    if sp_cntr<1:\n",
    "        print('Password should have at least 1 character from [$#@]')\n",
    "        return\n",
    "    elif nm_cntr<1:\n",
    "        print('Password should have at least 1 number between [0-9]')\n",
    "        return\n",
    "    elif lo_cntr<1:\n",
    "        print('Password should have at least 1 letter between [a-z]')\n",
    "        return\n",
    "    elif up_cntr<1:\n",
    "        print('Password should have at least 1 letter between [A-Z]')\n",
    "        return\n",
    "    \n",
    "    print(\"Your password is valid!\")\n",
    "    \n",
    "validate(inp_pass)\n"
   ]
  },
  {
   "cell_type": "markdown",
   "metadata": {},
   "source": [
    "Question 4"
   ]
  },
  {
   "cell_type": "code",
   "execution_count": 22,
   "metadata": {},
   "outputs": [
    {
     "name": "stdout",
     "output_type": "stream",
     "text": [
      "[10, 20, 30, 40, 50, 60, 70, 80]\n",
      "Adding 200 and 300\n",
      "[10, 20, 30, 40, 50, 60, 70, 80, 200, 300]\n",
      "Removing 10 and 30\n",
      "[20, 40, 50, 60, 70, 80, 200, 300]\n",
      "Ascending:\n",
      "[20, 40, 50, 60, 70, 80, 200, 300]\n",
      "Descending:\n",
      "[300, 200, 80, 70, 60, 50, 40, 20]\n"
     ]
    }
   ],
   "source": [
    "my_list = [10, 20, 30, 40, 50, 60, 70, 80]\n",
    "print(my_list)\n",
    "print('Adding 200 and 300')\n",
    "my_list.append(200)\n",
    "my_list.append(300)\n",
    "print(my_list)\n",
    "\n",
    "print(\"Removing 10 and 30\")\n",
    "my_list.remove(10)\n",
    "my_list.remove(30)\n",
    "print(my_list)\n",
    "\n",
    "print(\"Ascending:\")\n",
    "my_list.sort()\n",
    "print(my_list)\n",
    "\n",
    "print(\"Descending:\")\n",
    "my_list.sort(reverse=True)\n",
    "print(my_list)\n"
   ]
  },
  {
   "cell_type": "markdown",
   "metadata": {},
   "source": [
    "Question 5"
   ]
  },
  {
   "cell_type": "code",
   "execution_count": 1,
   "metadata": {},
   "outputs": [
    {
     "name": "stdout",
     "output_type": "stream",
     "text": [
      "after adding key=6: {1: 'One', 2: 'Two', 3: 'Three', 4: 'Four', 5: 'Five', 6: 'Six'}\n",
      "after removing key=2: {1: 'One', 3: 'Three', 4: 'Four', 5: 'Five', 6: 'Six'}\n",
      "key=6 present in D?: True\n",
      "Number of elements in D: 5\n",
      "concatenation of all values in D: OneThreeFourFiveSix\n"
     ]
    }
   ],
   "source": [
    "D = {1: \"One\", 2: \"Two\", 3: \"Three\", 4: \"Four\", 5: \"Five\"}\n",
    "\n",
    "D[6] = \"Six\"\n",
    "print(\"after adding key=6:\", D)\n",
    "\n",
    "if 2 in D:\n",
    "    D.pop(2)\n",
    "print(\"after removing key=2:\", D)\n",
    "key_present = 6 in D\n",
    "print(\"key=6 present in D?:\", key_present)\n",
    "\n",
    "num_elements = len(D)\n",
    "print(\"Number of elements in D:\", num_elements)\n",
    "\n",
    "all_values = \"\".join(D.values())\n",
    "print(\"concatenation of all values in D:\", all_values)"
   ]
  },
  {
   "cell_type": "markdown",
   "metadata": {},
   "source": [
    "Question 6"
   ]
  },
  {
   "cell_type": "code",
   "execution_count": 2,
   "metadata": {},
   "outputs": [
    {
     "name": "stdout",
     "output_type": "stream",
     "text": [
      "Odd numbers: [593, 739, 251, 587, 649, 303, 701, 275, 435, 681, 623, 833, 275, 119, 357, 199, 151, 313, 395, 365, 377, 373, 277, 479, 797, 791, 337, 317, 375, 345, 691, 597, 517, 313, 847, 707, 399, 537, 125, 227, 143, 745, 731, 253, 349, 513, 223, 347, 419, 513, 803, 865, 737, 195, 353, 771, 197, 863, 419, 149]\n",
      "Count of odd numbers: 60\n",
      "Even numbers: [196, 436, 862, 782, 348, 674, 152, 794, 402, 888, 670, 354, 838, 754, 572, 300, 620, 808, 390, 670, 440, 528, 284, 328, 630, 184, 734, 834, 368, 148, 768, 492, 496, 670, 384, 822, 880, 270, 116, 660]\n",
      "Count of even numbers: 40\n",
      "Prime numbers: [593, 739, 251, 587, 701, 199, 151, 313, 373, 277, 479, 797, 337, 317, 691, 313, 227, 349, 223, 347, 419, 353, 197, 863, 419, 149]\n",
      "Count of prime numbers: 26\n"
     ]
    }
   ],
   "source": [
    "import random\n",
    "\n",
    "random_numbers = [random.randint(100, 900) for _ in range(100)]\n",
    "\n",
    "odd_numbers = [num for num in random_numbers if num % 2 != 0]\n",
    "print(\"Odd numbers:\", odd_numbers)\n",
    "print(\"Count of odd numbers:\", len(odd_numbers))\n",
    "\n",
    "even_numbers = [num for num in random_numbers if num % 2 == 0]\n",
    "print(\"Even numbers:\", even_numbers)\n",
    "print(\"Count of even numbers:\", len(even_numbers))\n",
    "\n",
    "def is_prime(n):\n",
    "    if n <= 1:\n",
    "        return False\n",
    "    for i in range(2, int(n**0.5) + 1):\n",
    "        if n % i == 0:\n",
    "            return False\n",
    "    return True\n",
    "\n",
    "prime_numbers = [num for num in random_numbers if is_prime(num)]\n",
    "print(\"Prime numbers:\", prime_numbers)\n",
    "print(\"Count of prime numbers:\", len(prime_numbers))\n"
   ]
  },
  {
   "cell_type": "markdown",
   "metadata": {},
   "source": [
    "Question 7"
   ]
  },
  {
   "cell_type": "code",
   "execution_count": null,
   "metadata": {},
   "outputs": [],
   "source": [
    "def compound_interest(principal, rate, time):\n",
    "    return principal * ((1 + rate / 100) ** time - 1)\n",
    "\n",
    "principal = 10000\n",
    "rate = 5\n",
    "time = 2\n",
    "ci = compound_interest(principal, rate, time)\n",
    "print(\"Compound Interest:\", ci)\n"
   ]
  },
  {
   "cell_type": "markdown",
   "metadata": {},
   "source": [
    "Question 8"
   ]
  },
  {
   "cell_type": "code",
   "execution_count": 5,
   "metadata": {},
   "outputs": [
    {
     "name": "stdout",
     "output_type": "stream",
     "text": [
      "Romatini\n",
      "Italian\n",
      "Restaurant Name: Romatini\n",
      "Cuisine Type: Italian\n",
      "Romatini is now open!\n"
     ]
    }
   ],
   "source": [
    "class Restaurant:\n",
    "    def __init__(self, restaurant_name, cuisine_type):\n",
    "        self.restaurant_name = restaurant_name\n",
    "        self.cuisine_type = cuisine_type\n",
    "\n",
    "    def desc_restaurant(self):\n",
    "        print(f\"Restaurant Name: {self.restaurant_name}\")\n",
    "        print(f\"Cuisine Type: {self.cuisine_type}\")\n",
    "\n",
    "    def open_restaurant(self):\n",
    "        print(f\"{self.restaurant_name} is now open!\")\n",
    "\n",
    "restaurant = Restaurant(\"Romatini\", \"Italian\")\n",
    "print(restaurant.restaurant_name)\n",
    "print(restaurant.cuisine_type)\n",
    "\n",
    "restaurant.desc_restaurant()\n",
    "restaurant.open_restaurant()\n"
   ]
  },
  {
   "cell_type": "code",
   "execution_count": 8,
   "metadata": {},
   "outputs": [
    {
     "name": "stdout",
     "output_type": "stream",
     "text": [
      "User Profile:\n",
      "Name: Ishan Singla\n",
      "Age: 28\n",
      "Email: ishan@gmail.com\n",
      "City: Patiala\n",
      "Hello, Ishan! Welcome back!\n",
      "User Profile:\n",
      "Name: Janya Makhija\n",
      "Age: 34\n",
      "Email: janya@gmail.com\n",
      "City: Panipat\n",
      "Hello, Janya! Welcome back!\n",
      "User Profile:\n",
      "Name: Rakshit Dhamija\n",
      "Age: 25\n",
      "Email: rakshit@gmail.com\n",
      "City: Zirkpur\n",
      "Hello, Rakshit! Welcome back!\n",
      "User Profile:\n",
      "Name: Tanvi -\n",
      "Age: 25\n",
      "Email: tanvi@gmail.com\n",
      "City: Rajpura\n",
      "Hello, Tanvi! Welcome back!\n"
     ]
    }
   ],
   "source": [
    "class User:\n",
    "    def __init__(self, first_name, last_name, age, email, city):\n",
    "        self.first_name = first_name\n",
    "        self.last_name = last_name\n",
    "        self.age = age\n",
    "        self.email = email\n",
    "        self.city = city\n",
    "\n",
    "    def desc_user(self):\n",
    "        print(f\"User Profile:\")\n",
    "        print(f\"Name: {self.first_name} {self.last_name}\")\n",
    "        print(f\"Age: {self.age}\")\n",
    "        print(f\"Email: {self.email}\")\n",
    "        print(f\"City: {self.city}\")\n",
    "\n",
    "    def greet_user(self):\n",
    "        print(f\"Hello, {self.first_name}! Welcome back!\")\n",
    "\n",
    "user1 = User(\"Ishan\", \"Singla\", 28, \"ishan@gmail.com\", \"Patiala\")\n",
    "user2 = User(\"Janya\", \"Makhija\", 34, \"janya@gmail.com\", \"Panipat\")\n",
    "user3 = User(\"Rakshit\", \"Dhamija\", 25, \"rakshit@gmail.com\", \"Zirkpur\")\n",
    "user4 = User(\"Tanvi\", \"-\", 25, \"tanvi@gmail.com\", \"Rajpura\")\n",
    "\n",
    "user1.desc_user()\n",
    "user1.greet_user()\n",
    "\n",
    "user2.desc_user()\n",
    "user2.greet_user()\n",
    "\n",
    "user3.desc_user()\n",
    "user3.greet_user()\n",
    "\n",
    "user4.desc_user()\n",
    "user4.greet_user()\n"
   ]
  }
 ],
 "metadata": {
  "kernelspec": {
   "display_name": "Python 3",
   "language": "python",
   "name": "python3"
  },
  "language_info": {
   "codemirror_mode": {
    "name": "ipython",
    "version": 3
   },
   "file_extension": ".py",
   "mimetype": "text/x-python",
   "name": "python",
   "nbconvert_exporter": "python",
   "pygments_lexer": "ipython3",
   "version": "3.12.3"
  }
 },
 "nbformat": 4,
 "nbformat_minor": 2
}
